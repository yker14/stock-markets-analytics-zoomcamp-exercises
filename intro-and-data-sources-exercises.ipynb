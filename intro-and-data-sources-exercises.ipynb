{
  "cells": [
    {
      "cell_type": "code",
      "execution_count": 290,
      "metadata": {
        "colab": {
          "base_uri": "https://localhost:8080/"
        },
        "id": "7_BfcEi2ZQwz",
        "outputId": "b9f970e5-f339-488f-dff7-a58897d4c18b"
      },
      "outputs": [
        {
          "name": "stdout",
          "output_type": "stream",
          "text": [
            "Requirement already satisfied: yfinance in c:\\users\\ykr20\\appdata\\local\\programs\\python\\python311\\lib\\site-packages (0.2.38)\n",
            "Requirement already satisfied: pandas>=1.3.0 in c:\\users\\ykr20\\appdata\\local\\programs\\python\\python311\\lib\\site-packages (from yfinance) (2.2.2)\n",
            "Requirement already satisfied: numpy>=1.16.5 in c:\\users\\ykr20\\appdata\\local\\programs\\python\\python311\\lib\\site-packages (from yfinance) (1.26.4)\n",
            "Requirement already satisfied: requests>=2.31 in c:\\users\\ykr20\\appdata\\local\\programs\\python\\python311\\lib\\site-packages (from yfinance) (2.31.0)\n",
            "Requirement already satisfied: multitasking>=0.0.7 in c:\\users\\ykr20\\appdata\\local\\programs\\python\\python311\\lib\\site-packages (from yfinance) (0.0.11)\n",
            "Requirement already satisfied: lxml>=4.9.1 in c:\\users\\ykr20\\appdata\\local\\programs\\python\\python311\\lib\\site-packages (from yfinance) (5.2.1)\n",
            "Requirement already satisfied: appdirs>=1.4.4 in c:\\users\\ykr20\\appdata\\local\\programs\\python\\python311\\lib\\site-packages (from yfinance) (1.4.4)\n",
            "Requirement already satisfied: pytz>=2022.5 in c:\\users\\ykr20\\appdata\\local\\programs\\python\\python311\\lib\\site-packages (from yfinance) (2024.1)\n",
            "Requirement already satisfied: frozendict>=2.3.4 in c:\\users\\ykr20\\appdata\\local\\programs\\python\\python311\\lib\\site-packages (from yfinance) (2.4.2)\n",
            "Requirement already satisfied: peewee>=3.16.2 in c:\\users\\ykr20\\appdata\\local\\programs\\python\\python311\\lib\\site-packages (from yfinance) (3.17.3)\n",
            "Requirement already satisfied: beautifulsoup4>=4.11.1 in c:\\users\\ykr20\\appdata\\local\\programs\\python\\python311\\lib\\site-packages (from yfinance) (4.12.3)\n",
            "Requirement already satisfied: html5lib>=1.1 in c:\\users\\ykr20\\appdata\\local\\programs\\python\\python311\\lib\\site-packages (from yfinance) (1.1)\n",
            "Requirement already satisfied: soupsieve>1.2 in c:\\users\\ykr20\\appdata\\local\\programs\\python\\python311\\lib\\site-packages (from beautifulsoup4>=4.11.1->yfinance) (2.5)\n",
            "Requirement already satisfied: six>=1.9 in c:\\users\\ykr20\\appdata\\roaming\\python\\python311\\site-packages (from html5lib>=1.1->yfinance) (1.16.0)\n",
            "Requirement already satisfied: webencodings in c:\\users\\ykr20\\appdata\\local\\programs\\python\\python311\\lib\\site-packages (from html5lib>=1.1->yfinance) (0.5.1)\n",
            "Requirement already satisfied: python-dateutil>=2.8.2 in c:\\users\\ykr20\\appdata\\roaming\\python\\python311\\site-packages (from pandas>=1.3.0->yfinance) (2.9.0.post0)\n",
            "Requirement already satisfied: tzdata>=2022.7 in c:\\users\\ykr20\\appdata\\local\\programs\\python\\python311\\lib\\site-packages (from pandas>=1.3.0->yfinance) (2024.1)\n",
            "Requirement already satisfied: charset-normalizer<4,>=2 in c:\\users\\ykr20\\appdata\\local\\programs\\python\\python311\\lib\\site-packages (from requests>=2.31->yfinance) (3.3.2)\n",
            "Requirement already satisfied: idna<4,>=2.5 in c:\\users\\ykr20\\appdata\\local\\programs\\python\\python311\\lib\\site-packages (from requests>=2.31->yfinance) (3.7)\n",
            "Requirement already satisfied: urllib3<3,>=1.21.1 in c:\\users\\ykr20\\appdata\\local\\programs\\python\\python311\\lib\\site-packages (from requests>=2.31->yfinance) (2.2.1)\n",
            "Requirement already satisfied: certifi>=2017.4.17 in c:\\users\\ykr20\\appdata\\local\\programs\\python\\python311\\lib\\site-packages (from requests>=2.31->yfinance) (2024.2.2)\n",
            "Note: you may need to restart the kernel to use updated packages.\n"
          ]
        }
      ],
      "source": [
        "# install main library YFinance\n",
        "# Yahoo finance (yfinance) quickstart - https://github.com/ranaroussi/yfinance?tab=readme-ov-file#quick-start\n",
        "# Alternative yahoo finance lib (yahoo_fin) - https://algotrading101.com/learn/yahoo-finance-api-guide/\n",
        "\n",
        "%pip install yfinance"
      ]
    },
    {
      "cell_type": "code",
      "execution_count": 252,
      "metadata": {
        "id": "upIkgS85ZLbF"
      },
      "outputs": [],
      "source": [
        "# IMPORTS\n",
        "import numpy as np\n",
        "import pandas as pd\n",
        "\n",
        "#Fin Data Sources\n",
        "import yfinance as yf\n",
        "import pandas_datareader as pdr\n",
        "\n",
        "#Data viz\n",
        "import plotly.graph_objs as go\n",
        "import plotly.express as px\n",
        "import matplotlib.pyplot as plt\n",
        "import matplotlib.ticker as mtick\n",
        "\n",
        "import time\n",
        "from datetime import date\n",
        "from datetime import datetime\n"
      ]
    },
    {
      "cell_type": "markdown",
      "metadata": {
        "id": "_sMONMJHjXkM"
      },
      "source": [
        "# Understanding Data-Driven Decisions data pulls"
      ]
    },
    {
      "cell_type": "code",
      "execution_count": 6,
      "metadata": {
        "colab": {
          "base_uri": "https://localhost:8080/"
        },
        "id": "YneZ9fqHsjU9",
        "outputId": "251d9513-240a-4e6e-f694-0ed1a5fbcf90"
      },
      "outputs": [
        {
          "name": "stdout",
          "output_type": "stream",
          "text": [
            "Year = 2024; month= 4; day=18\n",
            "Period for indexes: 1954-04-18 to 2024-04-18 \n"
          ]
        }
      ],
      "source": [
        "end = date.today()\n",
        "print(f'Year = {end.year}; month= {end.month}; day={end.day}')\n",
        "\n",
        "start = date(year=end.year-70, month=end.month, day=end.day)\n",
        "print(f'Period for indexes: {start} to {end} ')"
      ]
    },
    {
      "cell_type": "markdown",
      "metadata": {
        "id": "ZR5V_n3EsXTu"
      },
      "source": [
        "## Question 1: [Macro] Average growth of GDP in 2023\n",
        "What is the average growth (in %) of GDP in 2023?\n",
        "\n",
        "Download the timeseries Real Gross Domestic Product (GDPC1) from FRED (https://fred.stlouisfed.org/series/GDPC1). Calculate year-over-year (YoY) growth rate (that is, divide current value to one 4 quarters ago). Find the average YoY growth in 2023 (average from 4 YoY numbers). Round to 1 digit after the decimal point: e.g. if you get 5.66% growth => you should answer 5.7"
      ]
    },
    {
      "cell_type": "code",
      "execution_count": 132,
      "metadata": {
        "id": "Ij7FDH9usZ0E"
      },
      "outputs": [],
      "source": [
        "gdpc1 = pdr.DataReader(\"GDPC1\", \"fred\", start=start, end=end)"
      ]
    },
    {
      "cell_type": "code",
      "execution_count": 61,
      "metadata": {},
      "outputs": [
        {
          "name": "stdout",
          "output_type": "stream",
          "text": [
            "October 2023 YoY growth: 3.04%\n"
          ]
        }
      ],
      "source": [
        "# Filter rows where year is 2023 and 2022\n",
        "gdp_2023 = gdpc1.loc['2023-10-01'].GDPC1\n",
        "gdp_2022 = gdpc1.loc['2022-10-01'].GDPC1\n",
        "yoy_growth = round( (1-(gdp_2022/gdp_2023))*100, 2)\n",
        "print(f\"October 2023 YoY growth: {yoy_growth}%\")"
      ]
    },
    {
      "cell_type": "code",
      "execution_count": 137,
      "metadata": {},
      "outputs": [
        {
          "name": "stdout",
          "output_type": "stream",
          "text": [
            "2023 YoY growth (last 4 quarters): 2.54%\n"
          ]
        }
      ],
      "source": [
        "gdpc1['gdppot_us_yoy'] = gdpc1.GDPC1/gdpc1.GDPC1.shift(4)-1\n",
        "gdpc1['gdppot_us_qoq'] = gdpc1.GDPC1/gdpc1.GDPC1.shift(1)-1\n",
        "\n",
        "# Select dates '2022-10-01','2023-01-01','2023-04-01','2023-07-01','2023-10-01'\n",
        "# values = ['2023-01-01','2023-04-01','2023-07-01','2023-10-01']\n",
        "gdpc1_n = gdpc1.tail(4)\n",
        "\n",
        "average_value = round(gdpc1_n['gdppot_us_yoy'].mean()*100,2)\n",
        "print(f\"2023 YoY growth (last 4 quarters): {average_value}%\")"
      ]
    },
    {
      "cell_type": "markdown",
      "metadata": {},
      "source": [
        "## Question 2. [Macro] Inverse \"Treasury Yield\"\n",
        "Find the min value of (dgs10-dgs2) after since year 2000 (2000-01-01) and write it down as an answer, round to 1 digit after the decimal point.\n",
        "\n",
        "Download DGS2 and DGS10 interest rates series (https://fred.stlouisfed.org/series/DGS2, https://fred.stlouisfed.org/series/DGS10). Join them together to one dataframe on date (you might need to read about pandas.DataFrame.join()), calculate the difference dgs10-dgs2 daily.\n",
        "\n",
        "(Additional: think about what does the \"inverted yield curve\" mean for the market and investors? do you see the same thing in your country/market of interest? Do you think it can be a good predictive feature for the models?)"
      ]
    },
    {
      "cell_type": "code",
      "execution_count": 109,
      "metadata": {},
      "outputs": [],
      "source": [
        "dgs10 = pdr.DataReader(\"DGS10\", \"fred\", start=start, end='2000-01-01')\n",
        "dgs2 = pdr.DataReader(\"DGS2\", \"fred\", start=start, end='2000-01-01')"
      ]
    },
    {
      "cell_type": "code",
      "execution_count": 153,
      "metadata": {},
      "outputs": [
        {
          "name": "stdout",
          "output_type": "stream",
          "text": [
            "Minimum yield since 2000-01-01: -1.1%\n"
          ]
        }
      ],
      "source": [
        "n_df = dgs10.join(dgs2, how='inner', on=\"DATE\")\n",
        "n_df['yield_diff'] = n_df['DGS10'] - n_df['DGS2']\n",
        "inv_yield = n_df[n_df.index >= '2000-01-01']\n",
        "\n",
        "min_yield = round(inv_yield['yield_diff'].min(),1)\n",
        "print(f\"Minimum yield since 2000-01-01: {min_yield}%\")"
      ]
    },
    {
      "cell_type": "markdown",
      "metadata": {},
      "source": [
        "## Question 3. [Index] Which Index is better recently?\n",
        "Compare S&P 500 and IPC Mexico indexes by the 5 year growth and write down the largest value as an answer (%)\n",
        "\n",
        "Download on Yahoo Finance two daily index prices for S&P 500 (^GSPC, https://finance.yahoo.com/quote/%5EGSPC/) and IPC Mexico (^MXX, https://finance.yahoo.com/quote/%5EMXX/). Compare 5Y growth for both (between 2019-04-09 and 2024-04-09). Select the higher growing index and write down the growth in % (closest integer %). E.g. if ratio end/start was 2.0925 (or growth of 109.25%), you need to write down 109 as your answer.\n",
        "\n",
        "(Additional: think of other indexes and try to download stats and compare the growth? Do create 10Y and 20Y growth stats. What is an average yearly growth rate (CAGR) for each of the indexes you select?)"
      ]
    },
    {
      "cell_type": "code",
      "execution_count": 241,
      "metadata": {},
      "outputs": [
        {
          "name": "stderr",
          "output_type": "stream",
          "text": [
            "[*********************100%%**********************]  1 of 1 completed\n",
            "[*********************100%%**********************]  1 of 1 completed"
          ]
        },
        {
          "name": "stdout",
          "output_type": "stream",
          "text": [
            "                   Open         High          Low        Close    Adj Close  \\\n",
            "Date                                                                          \n",
            "2019-04-09  2886.580078  2886.879883  2873.330078  2878.199951  2878.199951   \n",
            "2019-04-10  2881.370117  2889.709961  2879.129883  2888.209961  2888.209961   \n",
            "2019-04-11  2891.919922  2893.419922  2881.989990  2888.320068  2888.320068   \n",
            "2019-04-12  2900.860107  2910.540039  2898.370117  2907.409912  2907.409912   \n",
            "2019-04-15  2908.320068  2909.600098  2896.479980  2905.580078  2905.580078   \n",
            "...                 ...          ...          ...          ...          ...   \n",
            "2024-04-02  5204.290039  5208.339844  5184.049805  5205.810059  5205.810059   \n",
            "2024-04-03  5194.370117  5228.750000  5194.370117  5211.490234  5211.490234   \n",
            "2024-04-04  5244.049805  5256.589844  5146.060059  5147.209961  5147.209961   \n",
            "2024-04-05  5158.950195  5222.180176  5157.209961  5204.339844  5204.339844   \n",
            "2024-04-08  5211.370117  5219.569824  5197.350098  5202.390137  5202.390137   \n",
            "\n",
            "                Volume  \n",
            "Date                    \n",
            "2019-04-09  3032480000  \n",
            "2019-04-10  3092230000  \n",
            "2019-04-11  2970650000  \n",
            "2019-04-12  3726050000  \n",
            "2019-04-15  3114530000  \n",
            "...                ...  \n",
            "2024-04-02  3886590000  \n",
            "2024-04-03  3703250000  \n",
            "2024-04-04  4075680000  \n",
            "2024-04-05  3386780000  \n",
            "2024-04-08  3278180000  \n",
            "\n",
            "[1258 rows x 6 columns]\n",
            "                    Open          High           Low         Close  \\\n",
            "Date                                                                 \n",
            "2019-04-09  45346.828125  45346.828125  44854.531250  45151.628906   \n",
            "2019-04-10  45204.750000  45219.410156  44850.109375  44909.140625   \n",
            "2019-04-11  44872.531250  44966.500000  44373.488281  44580.058594   \n",
            "2019-04-12  44767.671875  44888.699219  44534.378906  44686.058594   \n",
            "2019-04-15  44649.738281  44900.929688  44347.531250  44625.781250   \n",
            "...                  ...           ...           ...           ...   \n",
            "2024-04-02  57593.621094  57830.878906  57235.589844  57581.808594   \n",
            "2024-04-03  57547.191406  58086.421875  57300.109375  57503.390625   \n",
            "2024-04-04  57539.468750  58219.500000  57514.179688  57882.761719   \n",
            "2024-04-05  57805.191406  58227.839844  57678.609375  58092.441406   \n",
            "2024-04-08  58021.660156  58192.320312  57749.441406  57989.941406   \n",
            "\n",
            "               Adj Close     Volume  \n",
            "Date                                 \n",
            "2019-04-09  45151.628906  191575000  \n",
            "2019-04-10  44909.140625  145314900  \n",
            "2019-04-11  44580.058594  109090000  \n",
            "2019-04-12  44686.058594  143662400  \n",
            "2019-04-15  44625.781250  108627100  \n",
            "...                  ...        ...  \n",
            "2024-04-02  57581.808594  180753600  \n",
            "2024-04-03  57503.390625  189285300  \n",
            "2024-04-04  57882.761719  184739700  \n",
            "2024-04-05  58092.441406  212252300  \n",
            "2024-04-08  57989.941406  154641800  \n",
            "\n",
            "[1258 rows x 6 columns]\n"
          ]
        },
        {
          "name": "stderr",
          "output_type": "stream",
          "text": [
            "\n"
          ]
        }
      ],
      "source": [
        "sp500_daily = yf.download(tickers = \"^GSPC\", start=\"2019-04-09\", end=\"2024-04-09\", interval = \"1d\")\n",
        "mxipc_daily = yf.download(tickers = \"^MXX\", start=\"2019-04-09\", end=\"2024-04-09\", interval = \"1d\")\n",
        "\n",
        "print(sp500_daily)\n",
        "print(mxipc_daily)"
      ]
    },
    {
      "cell_type": "code",
      "execution_count": 256,
      "metadata": {},
      "outputs": [
        {
          "name": "stdout",
          "output_type": "stream",
          "text": [
            "Largest is 80.75151917783086\n"
          ]
        }
      ],
      "source": [
        "# Filter for first and last records from selected dates\n",
        "sp500_1 = sp500_daily.head(1)['Close']\n",
        "sp500_2 = sp500_daily.tail(1)['Close']\n",
        "sp500_ratio = sp500_2.iloc[0]/sp500_1.iloc[0]\n",
        "\n",
        "mxipc_1 = mxipc_daily.head(1)['Close']\n",
        "mxipc_2 = mxipc_daily.tail(1)['Close']\n",
        "mxipc_ratio = mxipc_2.iloc[0]/mxipc_1.iloc[0]\n",
        "\n",
        "winner = mxipc_ratio if mxipc_ratio > sp500_ratio else sp500_ratio\n",
        "print(f\"Largest is {(winner - 1)*100}\")\n"
      ]
    },
    {
      "cell_type": "markdown",
      "metadata": {},
      "source": [
        "## Question 4. [Stocks OHLCV] 52-weeks range ratio (2023) for the selected stocks\n",
        "Find the largest range ratio [=(max-min)/max] of Adj.Close prices in 2023\n",
        "\n",
        "Download the 2023 daily OHLCV data on Yahoo Finance for top6 stocks on earnings (https://companiesmarketcap.com/most-profitable-companies/): 2222.SR,BRK-B, AAPL, MSFT, GOOG, JPM.\n",
        "\n",
        "Here is the example data you should see in Pandas for \"2222.SR\": https://finance.yahoo.com/quote/2222.SR/history\n",
        "\n",
        "Calculate maximum-minimim \"Adj.Close\" price for each stock and divide it by the maximum \"Adj.Close\" value. Round the result to two decimal places (e.g. 0.1575 will be 0.16)\n",
        "\n",
        "(Additional: why this may be important for your research?)"
      ]
    },
    {
      "cell_type": "code",
      "execution_count": 255,
      "metadata": {},
      "outputs": [
        {
          "name": "stderr",
          "output_type": "stream",
          "text": [
            "[                       0%%                      ]"
          ]
        },
        {
          "name": "stderr",
          "output_type": "stream",
          "text": [
            "[*********************100%%**********************]  6 of 6 completed"
          ]
        },
        {
          "name": "stdout",
          "output_type": "stream",
          "text": [
            "Stock with Largest Range Ratio in 2023: MSFT (Ratio: 0.42)\n"
          ]
        },
        {
          "name": "stderr",
          "output_type": "stream",
          "text": [
            "\n"
          ]
        }
      ],
      "source": [
        "# Define tickers for top 6 stocks on earnings\n",
        "tickers = [\"2222.SR\", \"BRK-B\", \"AAPL\", \"MSFT\", \"GOOG\", \"JPM\"]\n",
        "start_date = datetime (year=2023, month=1, day=1)  # Start of 2023\n",
        "end_date = datetime(year=2023, month=12, day=31)  # End of 2023 (52 weeks)\n",
        "\n",
        "# Download OHLCV data for all tickers\n",
        "data = yf.download(tickers, start=start_date, end=end_date)[\"Adj Close\"]\n",
        "\n",
        "# Find max-min and calculate range ratio for each stock\n",
        "largest_range_ratio = 0\n",
        "largest_range_ratio_ticker = None\n",
        "\n",
        "for ticker in data.columns:\n",
        "  # Get Adj. Close prices for the ticker\n",
        "  adj_close_prices = data[ticker]\n",
        "  \n",
        "  # Calculate max, min, and range\n",
        "  max_price = adj_close_prices.max()\n",
        "  min_price = adj_close_prices.min()\n",
        "  range_value = max_price - min_price\n",
        "  \n",
        "  # Calculate range ratio\n",
        "  if max_price > 0:  # Avoid division by zero\n",
        "    range_ratio = range_value / max_price\n",
        "  else:\n",
        "    range_ratio = 0\n",
        "  \n",
        "  # Update largest ratio and ticker if applicable\n",
        "  if range_ratio > largest_range_ratio:\n",
        "    largest_range_ratio = range_ratio\n",
        "    largest_range_ratio_ticker = ticker\n",
        "  \n",
        "# Round result to two decimal places and print\n",
        "largest_range_ratio = round(largest_range_ratio, 2)\n",
        "print(f\"Stock with Largest Range Ratio in 2023: {largest_range_ratio_ticker} (Ratio: {largest_range_ratio})\")\n"
      ]
    },
    {
      "cell_type": "markdown",
      "metadata": {},
      "source": [
        "## Question 5. [Stocks] Dividend Yield\n",
        "Find the largest dividend yield for the same set of stocks\n",
        "\n",
        "Use the same list of companies (2222.SR,BRK-B, AAPL, MSFT, GOOG, JPM) and download all dividends paid in 2023. You can use get_actions() method or .dividends field in yfinance library (https://github.com/ranaroussi/yfinance?tab=readme-ov-file#quick-start)\n",
        "\n",
        "Sum up all dividends paid in 2023 per company and divide each value by the closing price (Adj.Close) at the last trading day of the year.\n",
        "\n",
        "Find the maximum value in % and round to 1 digit after the decimal point. (E.g., if you obtained $1.25 dividends paid and the end year stock price is $100, the dividend yield is 1.25% -- and your answer should be equal to 1.3)"
      ]
    },
    {
      "cell_type": "code",
      "execution_count": 267,
      "metadata": {},
      "outputs": [
        {
          "name": "stderr",
          "output_type": "stream",
          "text": [
            "[*********************100%%**********************]  6 of 6 completed\n"
          ]
        }
      ],
      "source": [
        "# Define tickers for top 6 stocks on earnings\n",
        "tickers = [\"2222.SR\", \"BRK-B\", \"AAPL\", \"MSFT\", \"GOOG\", \"JPM\"]\n",
        "year = 2023  # Year to analyze\n",
        "\n",
        "# Download data\n",
        "data = yf.download(tickers, start=datetime(2023, 1, 1), end=datetime(year=2023, month=12, day=31))"
      ]
    },
    {
      "cell_type": "code",
      "execution_count": 280,
      "metadata": {},
      "outputs": [],
      "source": [
        "# Download AAPL stock data\n",
        "tickers = [\"2222.SR\", \"BRK-B\", \"AAPL\", \"MSFT\", \"GOOG\", \"JPM\"]\n",
        "tickers_data = yf.Tickers('2222.SR BRK-B AAPL MSFT GOOG JPM')"
      ]
    },
    {
      "cell_type": "code",
      "execution_count": 289,
      "metadata": {},
      "outputs": [
        {
          "name": "stdout",
          "output_type": "stream",
          "text": [
            "Stock with Largest Dividend Yield (2023): 2222.SR (Yield: 2.8%)\n"
          ]
        }
      ],
      "source": [
        "# Function to calculate dividend yield\n",
        "def calculate_dividend_yield(ticker_data):\n",
        "  try:\n",
        "    # Get dividends\n",
        "    dividends_data = ticker_data.get_dividends()\n",
        "    filtered_dividends = dividends_data.loc[dividends_data.index >= '2023-01-01']\n",
        "\n",
        "    total_dividend = filtered_dividends.sum()\n",
        "    # Get closing price at year-end\n",
        "    start_date = datetime (year=2023, month=1, day=1)  # Start of 2023\n",
        "    end_date = datetime(year=2023, month=12, day=31)  # End of 2023 (52 weeks)\n",
        "    closing_price = ticker_data.history(start= datetime (year=2023, month=1, day=1), end=datetime(year=2023, month=12, day=31))[\"Close\"].iloc[-1]\n",
        "\n",
        "    #closing_price = ticker_data[\"Adj Close\"].iloc[-1]\n",
        "    \n",
        "    # Calculate and format dividend yield (handle potential zero division)\n",
        "    if closing_price > 0:\n",
        "      dividend_yield = (total_dividend / closing_price) * 100\n",
        "      return round(dividend_yield, 1)\n",
        "    else:\n",
        "      return 0.0\n",
        "  except (KeyError, AttributeError):\n",
        "    # Handle cases where dividend data might not be available\n",
        "    return 0.0\n",
        "\n",
        "# Find maximum dividend yield\n",
        "largest_dividend_yield = 0\n",
        "largest_yield_ticker = None\n",
        "\n",
        "for ticker in tickers:\n",
        "  # Get ticker data\n",
        "  ticker_data = tickers_data.tickers[ticker]\n",
        "  \n",
        "  # Calculate dividend yield for the ticker\n",
        "  dividend_yield = calculate_dividend_yield(ticker_data)\n",
        "  \n",
        "  # Update largest yield and ticker if applicable\n",
        "  if dividend_yield > largest_dividend_yield:\n",
        "    largest_dividend_yield = dividend_yield\n",
        "    largest_yield_ticker = ticker\n",
        "\n",
        "# Print result\n",
        "print(f\"Stock with Largest Dividend Yield ({year}): {largest_yield_ticker} (Yield: {largest_dividend_yield}%)\")"
      ]
    },
    {
      "cell_type": "markdown",
      "metadata": {},
      "source": [
        "## Question 6. [Exploratory] Investigate new metrics\n",
        "Free text answer\n",
        "\n",
        "Download and explore a few additional metrics or time series that might be valuable for your project and write down why (briefly)."
      ]
    },
    {
      "cell_type": "code",
      "execution_count": 311,
      "metadata": {},
      "outputs": [
        {
          "name": "stderr",
          "output_type": "stream",
          "text": [
            "[*********************100%%**********************]  3 of 3 completed\n"
          ]
        }
      ],
      "source": [
        "# Define tickers list\n",
        "tickers = [\"COP=X\", \"BCOLOMBIA.CL\", \"ECOPETROL.CL\"]\n",
        "\n",
        "# Define start and end dates for 2023\n",
        "start_date = pd.to_datetime(\"2022-12-01\")\n",
        "end_date = pd.to_datetime(\"2023-12-31\")\n",
        "\n",
        "# Download daily closing prices for all tickers\n",
        "data = yf.download(tickers, start=start_date, end=end_date)[\"Close\"]\n"
      ]
    },
    {
      "cell_type": "code",
      "execution_count": 321,
      "metadata": {},
      "outputs": [
        {
          "name": "stdout",
          "output_type": "stream",
          "text": [
            "Ticker      BCOLOMBIA.CL        COP=X  ECOPETROL.CL\n",
            "Date                                               \n",
            "2022-12-31       42500.0  4848.129883        2420.0\n",
            "2023-01-31       41990.0  4600.430176        2669.0\n",
            "2023-02-28       35900.0  4777.259766        2698.0\n",
            "2023-03-31       34990.0  4643.250000        2450.0\n",
            "2023-04-30       36000.0  4654.750000        2288.0\n",
            "2023-05-31       27800.0  4391.250000        2036.0\n",
            "2023-06-30       31000.0  4167.850098        2140.0\n",
            "2023-07-31       33300.0  3926.290039        2206.0\n",
            "2023-08-31       29100.0  4096.779785        2357.0\n",
            "2023-09-30       30810.0  4071.250000        2365.0\n",
            "2023-10-31       29350.0  4060.000000        2423.0\n",
            "2023-11-30       31720.0  3988.850098        2520.0\n",
            "2023-12-31       33200.0  3879.750000        2340.0\n",
            "Ticker      BCOLOMBIA.CL  COP=X  ECOPETROL.CL\n",
            "Date                                         \n",
            "2022-12-31           NaN    NaN           NaN\n",
            "2023-01-31         -1.20  -5.11         10.29\n",
            "2023-02-28        -14.50   3.84          1.09\n",
            "2023-03-31         -2.53  -2.81         -9.19\n",
            "2023-04-30          2.89   0.25         -6.61\n",
            "2023-05-31        -22.78  -5.66        -11.01\n",
            "2023-06-30         11.51  -5.09          5.11\n",
            "2023-07-31          7.42  -5.80          3.08\n",
            "2023-08-31        -12.61   4.34          6.84\n",
            "2023-09-30          5.88  -0.62          0.34\n",
            "2023-10-31         -4.74  -0.28          2.45\n",
            "2023-11-30          8.07  -1.75          4.00\n",
            "2023-12-31          4.67  -2.74         -7.14\n",
            "Ticker\n",
            "BCOLOMBIA.CL   -21.88\n",
            "COP=X          -19.97\n",
            "ECOPETROL.CL    -3.31\n",
            "Name: 2023-12-31 00:00:00, dtype: float64\n"
          ]
        }
      ],
      "source": [
        "# Resample data to 'ME' (monthly) frequency, selecting the 'last' closing price for each month\n",
        "monthly_closing_prices = data.resample('ME').last()\n",
        "\n",
        "mom_growth = monthly_closing_prices.copy()\n",
        "mom_growth = round((mom_growth/mom_growth.shift(1)-1)*100, 2)\n",
        "print(mom_growth)\n",
        "\n",
        "year_growth = monthly_closing_prices.copy()\n",
        "year_growth = round((year_growth/year_growth.shift(12)-1)*100, 2)\n",
        "print(year_growth.iloc[-1]) # Display last value\n"
      ]
    },
    {
      "cell_type": "markdown",
      "metadata": {},
      "source": [
        "## Question 7. [Exploratory] Time-driven strategy description around earnings releases\n",
        "\n",
        "Free text answer\n",
        "\n",
        "Explore earning dates for the whole month of April - e.g. using YahooFinance earnings calendar (https://finance.yahoo.com/calendar/earnings?from=2024-04-21&to=2024-04-27&day=2024-04-23). Compare with the previous closed earnings (e.g., recent dates with full data https://finance.yahoo.com/calendar/earnings?from=2024-04-07&to=2024-04-13&day=2024-04-08).\n",
        "\n",
        "Describe an analytical strategy/idea (you're not required to implement it) to select a subset companies of interest based on the future events data."
      ]
    },
    {
      "cell_type": "markdown",
      "metadata": {},
      "source": [
        "Answer:\n",
        "Explore the sentiment evolution on the stocks and the frequency of the news a day prior to the earnings release.\n",
        "For sentiment, pick those stocks which are not overhyped and overvalued, also, avoid those who are recently being negatively projected by news and general sentiment.\n",
        "\n",
        "As for frequency of news, it should serve as an potentiator of the sentiment for those stocks that are negatively talked about and also overhyped. Conservative news stocks should be the general pick.\n",
        "\n",
        "The goal is to pick stocks that are doing well and flying under the radar, hopefully these companies are focused on their main activities instead of the hyping and marketing of their products and looking for sales boost. If they fit into the stocks this analysis expects to find, they should be a good mid to long term investment."
      ]
    }
  ],
  "metadata": {
    "colab": {
      "collapsed_sections": [
        "_sMONMJHjXkM"
      ],
      "provenance": []
    },
    "kernelspec": {
      "display_name": "Python 3",
      "name": "python3"
    },
    "language_info": {
      "codemirror_mode": {
        "name": "ipython",
        "version": 3
      },
      "file_extension": ".py",
      "mimetype": "text/x-python",
      "name": "python",
      "nbconvert_exporter": "python",
      "pygments_lexer": "ipython3",
      "version": "3.11.8"
    }
  },
  "nbformat": 4,
  "nbformat_minor": 0
}
